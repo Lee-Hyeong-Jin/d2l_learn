{
 "cells": [
  {
   "metadata": {
    "collapsed": true
   },
   "cell_type": "markdown",
   "source": "# 2.3 Linear Algebra",
   "id": "6ad38b454fefc00d"
  },
  {
   "metadata": {
    "ExecuteTime": {
     "end_time": "2025-09-27T09:09:28.265847Z",
     "start_time": "2025-09-27T09:09:25.341006Z"
    }
   },
   "cell_type": "code",
   "source": "import torch",
   "id": "b234d48bf1d573cc",
   "outputs": [],
   "execution_count": 1
  },
  {
   "metadata": {
    "ExecuteTime": {
     "end_time": "2025-09-27T09:09:29.355335Z",
     "start_time": "2025-09-27T09:09:29.353213Z"
    }
   },
   "cell_type": "markdown",
   "source": [
    "## Scalars\n",
    "- 단순히 크기(magnitude)만을 가지는 물리량이나 값을 의미하며, 방향이 없는 양\n",
    "- 일반적으로 소문자 영문자로 표현함\n",
    "- 실수계의 스칼라 값 집합을 $ \\mathbb{R} $ 로 표현함"
   ],
   "id": "c8eeac74908e1cda"
  },
  {
   "metadata": {
    "ExecuteTime": {
     "end_time": "2025-09-27T09:15:16.217234Z",
     "start_time": "2025-09-27T09:15:16.146698Z"
    }
   },
   "cell_type": "code",
   "source": [
    "x = torch.tensor(3.0)\n",
    "y = torch.tensor(2.0)\n",
    "\n",
    "x + y, x * y, x / y, x**y"
   ],
   "id": "26d2acdae0cf2ff1",
   "outputs": [
    {
     "data": {
      "text/plain": [
       "(tensor(5.), tensor(6.), tensor(1.5000), tensor(9.))"
      ]
     },
     "execution_count": 3,
     "metadata": {},
     "output_type": "execute_result"
    }
   ],
   "execution_count": 3
  },
  {
   "metadata": {
    "ExecuteTime": {
     "end_time": "2025-09-27T09:15:28.879328Z",
     "start_time": "2025-09-27T09:15:28.874893Z"
    }
   },
   "cell_type": "markdown",
   "source": "## Vectors",
   "id": "a01bb04fab571370"
  },
  {
   "metadata": {},
   "cell_type": "code",
   "outputs": [],
   "execution_count": null,
   "source": "",
   "id": "3641611e8a883b48"
  }
 ],
 "metadata": {
  "kernelspec": {
   "display_name": "Python 3",
   "language": "python",
   "name": "python3"
  },
  "language_info": {
   "codemirror_mode": {
    "name": "ipython",
    "version": 2
   },
   "file_extension": ".py",
   "mimetype": "text/x-python",
   "name": "python",
   "nbconvert_exporter": "python",
   "pygments_lexer": "ipython2",
   "version": "2.7.6"
  }
 },
 "nbformat": 4,
 "nbformat_minor": 5
}
