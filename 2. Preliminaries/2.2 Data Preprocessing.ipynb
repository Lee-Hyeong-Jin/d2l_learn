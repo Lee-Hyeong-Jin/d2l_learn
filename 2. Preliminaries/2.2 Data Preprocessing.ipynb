{
 "cells": [
  {
   "metadata": {
    "collapsed": true
   },
   "cell_type": "markdown",
   "source": "# 2.2 Data Preprocessing",
   "id": "de38359f747eaf5e"
  },
  {
   "metadata": {},
   "cell_type": "markdown",
   "source": "b## 2.2.1 Reading the Dataset",
   "id": "91f3a95300a87391"
  },
  {
   "metadata": {},
   "cell_type": "markdown",
   "source": "### csv 데이터 생성",
   "id": "41973d960ce2f677"
  },
  {
   "metadata": {
    "ExecuteTime": {
     "end_time": "2025-09-18T05:02:41.826576Z",
     "start_time": "2025-09-18T05:02:41.812893Z"
    }
   },
   "cell_type": "code",
   "source": [
    "import os\n",
    "\n",
    "os.makedirs(os.path.join('..', 'data'), exist_ok=True)\n",
    "data_file = os.path.join('..', 'data', 'house_tiny.csv')\n",
    "with open(data_file, 'w') as f:\n",
    "    f.write('''NumRooms,RoofType,Price\n",
    "NA,NA,127500\n",
    "2,NA,106000\n",
    "4,Slate,178100\n",
    "NA,NA,140000''')"
   ],
   "id": "c1555daa281a8ba4",
   "outputs": [],
   "execution_count": 2
  },
  {
   "metadata": {},
   "cell_type": "markdown",
   "source": "### csv 데이터 추출",
   "id": "8486f81e26501871"
  },
  {
   "metadata": {
    "ExecuteTime": {
     "end_time": "2025-09-18T05:03:28.468563Z",
     "start_time": "2025-09-18T05:03:28.072554Z"
    }
   },
   "cell_type": "code",
   "source": [
    "import pandas as pd\n",
    "\n",
    "data = pd.read_csv(data_file)\n",
    "print(data)"
   ],
   "id": "582c41ed6154f329",
   "outputs": [
    {
     "name": "stdout",
     "output_type": "stream",
     "text": [
      "   NumRooms RoofType   Price\n",
      "0       NaN      NaN  127500\n",
      "1       2.0      NaN  106000\n",
      "2       4.0    Slate  178100\n",
      "3       NaN      NaN  140000\n"
     ]
    }
   ],
   "execution_count": 3
  },
  {
   "metadata": {},
   "cell_type": "markdown",
   "source": [
    "## 2.2.2 Data Preparation\n",
    "- 지도학습의 경우 주어진 입력값에 대해 의도한 target 값을 예측해야함 -> 데이터셋에서 입력값과 target 값을 분리해야 함\n",
    "- 누락된 값이 존재한다면 이 값에 대한 처리를 해야함\n",
    "  1. imputation: 누락된 값을 추정값으로 대체 하는 방식\n",
    "  2. deletion: 누락된 값을 제거하기 위해 행 또는 열을 무시하는 방식"
   ],
   "id": "998263cb1ae6d935"
  },
  {
   "metadata": {},
   "cell_type": "markdown",
   "source": "- 누락된 카테고리 값을 처리하기 위한 방법 중 하나로 imputation heuristics(추정 휴리스틱) 이 존재함",
   "id": "7e5fa98eafd2b19f"
  },
  {
   "metadata": {
    "ExecuteTime": {
     "end_time": "2025-09-18T08:35:37.500958Z",
     "start_time": "2025-09-18T08:35:37.483315Z"
    }
   },
   "cell_type": "code",
   "source": [
    "inputs, targets = data.iloc[:, 0:2], data.iloc[:, 2]\n",
    "inputs = pd.get_dummies(inputs, dummy_na=True)\n",
    "print(inputs)"
   ],
   "id": "4c94c2823bd1cc62",
   "outputs": [
    {
     "name": "stdout",
     "output_type": "stream",
     "text": [
      "   NumRooms  RoofType_Slate  RoofType_nan\n",
      "0       NaN           False          True\n",
      "1       2.0           False          True\n",
      "2       4.0            True         False\n",
      "3       NaN           False          True\n"
     ]
    }
   ],
   "execution_count": 6
  },
  {
   "metadata": {},
   "cell_type": "markdown",
   "source": "- 누락된 수치 값을 처리하기 위한 방법중 하나로 평균값을 사용하는 휴리스틱 방식이 있음",
   "id": "6390d19846d54321"
  },
  {
   "metadata": {
    "ExecuteTime": {
     "end_time": "2025-09-18T08:37:09.838021Z",
     "start_time": "2025-09-18T08:37:09.796897Z"
    }
   },
   "cell_type": "code",
   "source": [
    "inputs = inputs.fillna(inputs.mean())\n",
    "inputs"
   ],
   "id": "35941e96d681bf22",
   "outputs": [
    {
     "data": {
      "text/plain": [
       "   NumRooms  RoofType_Slate  RoofType_nan\n",
       "0       3.0           False          True\n",
       "1       2.0           False          True\n",
       "2       4.0            True         False\n",
       "3       3.0           False          True"
      ],
      "text/html": [
       "<div>\n",
       "<style scoped>\n",
       "    .dataframe tbody tr th:only-of-type {\n",
       "        vertical-align: middle;\n",
       "    }\n",
       "\n",
       "    .dataframe tbody tr th {\n",
       "        vertical-align: top;\n",
       "    }\n",
       "\n",
       "    .dataframe thead th {\n",
       "        text-align: right;\n",
       "    }\n",
       "</style>\n",
       "<table border=\"1\" class=\"dataframe\">\n",
       "  <thead>\n",
       "    <tr style=\"text-align: right;\">\n",
       "      <th></th>\n",
       "      <th>NumRooms</th>\n",
       "      <th>RoofType_Slate</th>\n",
       "      <th>RoofType_nan</th>\n",
       "    </tr>\n",
       "  </thead>\n",
       "  <tbody>\n",
       "    <tr>\n",
       "      <th>0</th>\n",
       "      <td>3.0</td>\n",
       "      <td>False</td>\n",
       "      <td>True</td>\n",
       "    </tr>\n",
       "    <tr>\n",
       "      <th>1</th>\n",
       "      <td>2.0</td>\n",
       "      <td>False</td>\n",
       "      <td>True</td>\n",
       "    </tr>\n",
       "    <tr>\n",
       "      <th>2</th>\n",
       "      <td>4.0</td>\n",
       "      <td>True</td>\n",
       "      <td>False</td>\n",
       "    </tr>\n",
       "    <tr>\n",
       "      <th>3</th>\n",
       "      <td>3.0</td>\n",
       "      <td>False</td>\n",
       "      <td>True</td>\n",
       "    </tr>\n",
       "  </tbody>\n",
       "</table>\n",
       "</div>"
      ]
     },
     "execution_count": 7,
     "metadata": {},
     "output_type": "execute_result"
    }
   ],
   "execution_count": 7
  },
  {
   "metadata": {},
   "cell_type": "markdown",
   "source": "## 2.2.3 Conversion to the Tensor Format",
   "id": "887200e8be37055c"
  },
  {
   "metadata": {
    "ExecuteTime": {
     "end_time": "2025-09-18T08:41:32.595371Z",
     "start_time": "2025-09-18T08:41:32.513484Z"
    }
   },
   "cell_type": "code",
   "source": [
    "import torch\n",
    "import numpy as np\n",
    "\n",
    "X = torch.tensor(inputs.to_numpy(dtype=np.float32))\n",
    "y = torch.tensor(targets.to_numpy(dtype=np.float32))\n",
    "X, y"
   ],
   "id": "dabe0c5312f06585",
   "outputs": [
    {
     "data": {
      "text/plain": [
       "(tensor([[3., 0., 1.],\n",
       "         [2., 0., 1.],\n",
       "         [4., 1., 0.],\n",
       "         [3., 0., 1.]]),\n",
       " tensor([127500., 106000., 178100., 140000.]))"
      ]
     },
     "execution_count": 8,
     "metadata": {},
     "output_type": "execute_result"
    }
   ],
   "execution_count": 8
  },
  {
   "metadata": {},
   "cell_type": "code",
   "outputs": [],
   "execution_count": null,
   "source": "",
   "id": "d16d4188bb1d65ca"
  }
 ],
 "metadata": {
  "kernelspec": {
   "display_name": "Python 3",
   "language": "python",
   "name": "python3"
  },
  "language_info": {
   "codemirror_mode": {
    "name": "ipython",
    "version": 2
   },
   "file_extension": ".py",
   "mimetype": "text/x-python",
   "name": "python",
   "nbconvert_exporter": "python",
   "pygments_lexer": "ipython2",
   "version": "2.7.6"
  }
 },
 "nbformat": 4,
 "nbformat_minor": 5
}
