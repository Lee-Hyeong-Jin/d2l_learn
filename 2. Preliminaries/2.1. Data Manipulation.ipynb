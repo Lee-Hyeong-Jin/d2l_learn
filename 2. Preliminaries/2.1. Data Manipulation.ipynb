{
 "cells": [
  {
   "metadata": {},
   "cell_type": "markdown",
   "source": [
    "# 2.1 Data Manipulation\n",
    "\n",
    "- 작업하기전 데이터를 저장하고 가공해야함\n",
    "- 데이터를 다룰때 중요한 작업 두 가지\n",
    "  1. 데이터 수집\n",
    "  2. 저장된 데이터 처리\n",
    "- 현대 딥러닝 프레임워크들은 Numpy의 ndarray와 유사한 tensor를 사용함\n",
    "- tensor class 특징\n",
    "  1. 자동 미분을 지원함\n",
    "  2. 수치 연산에 GPU 가속을 사용함"
   ],
   "id": "65dfbe8f0fda820d"
  },
  {
   "metadata": {},
   "cell_type": "markdown",
   "source": "## 2.1.1 Getting Started",
   "id": "558d96a96dec5f12"
  },
  {
   "metadata": {
    "ExecuteTime": {
     "end_time": "2025-09-17T14:52:38.062969Z",
     "start_time": "2025-09-17T14:52:38.053635Z"
    }
   },
   "cell_type": "code",
   "source": [
    "from encodings.rot_13 import rot13\n",
    "\n",
    "import torch"
   ],
   "id": "7c3045afe0396e21",
   "outputs": [],
   "execution_count": 2
  },
  {
   "metadata": {},
   "cell_type": "markdown",
   "source": [
    "### Tensor\n",
    "- tensor: 숫자 값의 배열\n",
    "- 1차원인 경우 vector라 부름\n",
    "- 2차원인 경우 matrix라 부름\n",
    "- 2차원 초과의 축이 있는 경우 n차 텐서라 부름"
   ],
   "id": "2245ebf068e3dba2"
  },
  {
   "metadata": {},
   "cell_type": "markdown",
   "source": [
    "### torch.arange\n",
    "- 균일하게 분포된 값의 벡터를 생성\n",
    "- 기본 step 사이즈는 1\n",
    "- 지정하지 않을 시, 새로운 텐서는 주 메모리에 저장되고 CPU 기반 계산을 위해 지정됨\n",
    "- 각 값들은 텐서의 요소라고 부름"
   ],
   "id": "3ab0ea3bf463b40"
  },
  {
   "metadata": {
    "ExecuteTime": {
     "end_time": "2025-09-17T15:07:34.352397Z",
     "start_time": "2025-09-17T15:07:34.346335Z"
    }
   },
   "cell_type": "code",
   "source": [
    "x = torch.arange(12, dtype=torch.float32)\n",
    "x"
   ],
   "id": "ad5f40d02492c335",
   "outputs": [
    {
     "data": {
      "text/plain": [
       "tensor([ 0.,  1.,  2.,  3.,  4.,  5.,  6.,  7.,  8.,  9., 10., 11.])"
      ]
     },
     "execution_count": 16,
     "metadata": {},
     "output_type": "execute_result"
    }
   ],
   "execution_count": 16
  },
  {
   "metadata": {},
   "cell_type": "markdown",
   "source": "- numel 메서드를 통해 텐서의 총 요소 개수를 확인할수 있음",
   "id": "4c43c80135c4327e"
  },
  {
   "metadata": {
    "ExecuteTime": {
     "end_time": "2025-09-17T15:07:34.359636Z",
     "start_time": "2025-09-17T15:07:34.353927Z"
    }
   },
   "cell_type": "code",
   "source": "x.numel()",
   "id": "d9fe6e4e3a6b06b7",
   "outputs": [
    {
     "data": {
      "text/plain": [
       "12"
      ]
     },
     "execution_count": 17,
     "metadata": {},
     "output_type": "execute_result"
    }
   ],
   "execution_count": 17
  },
  {
   "metadata": {},
   "cell_type": "markdown",
   "source": "- 텐서의 shape는 shape 속성을 통해 접근할수 있음",
   "id": "302cf487f61aa9bb"
  },
  {
   "metadata": {
    "ExecuteTime": {
     "end_time": "2025-09-17T15:07:34.420258Z",
     "start_time": "2025-09-17T15:07:34.417Z"
    }
   },
   "cell_type": "code",
   "source": "x.shape",
   "id": "11dca4a21760ecda",
   "outputs": [
    {
     "data": {
      "text/plain": [
       "torch.Size([12])"
      ]
     },
     "execution_count": 18,
     "metadata": {},
     "output_type": "execute_result"
    }
   ],
   "execution_count": 18
  },
  {
   "metadata": {},
   "cell_type": "markdown",
   "source": "- 텐서의 shape를 reshape 를 호출함으로써 변경할수 있음",
   "id": "b4bcc6abae4795ea"
  },
  {
   "metadata": {
    "ExecuteTime": {
     "end_time": "2025-09-17T15:07:34.424686Z",
     "start_time": "2025-09-17T15:07:34.421234Z"
    }
   },
   "cell_type": "code",
   "source": [
    "X = x.reshape(3, 4)\n",
    "X"
   ],
   "id": "8bdbb9eece7f3f18",
   "outputs": [
    {
     "data": {
      "text/plain": [
       "tensor([[ 0.,  1.,  2.,  3.],\n",
       "        [ 4.,  5.,  6.,  7.],\n",
       "        [ 8.,  9., 10., 11.]])"
      ]
     },
     "execution_count": 19,
     "metadata": {},
     "output_type": "execute_result"
    }
   ],
   "execution_count": 19
  },
  {
   "metadata": {},
   "cell_type": "markdown",
   "source": "- 모든 shpae의 컴포넌트를 지정하는 것은 반복되므로 tensor의 사이즈를 안다면 한개의 컴포넌트가 주어지면 나머지를 계산할 수 있음",
   "id": "7a60705af1826a29"
  },
  {
   "metadata": {
    "ExecuteTime": {
     "end_time": "2025-09-17T15:14:21.737408Z",
     "start_time": "2025-09-17T15:14:21.707672Z"
    }
   },
   "cell_type": "code",
   "source": [
    "X = x.reshape(-1, 4)\n",
    "X"
   ],
   "id": "e648fb5a6d62eff4",
   "outputs": [
    {
     "data": {
      "text/plain": [
       "tensor([[ 0.,  1.,  2.,  3.],\n",
       "        [ 4.,  5.,  6.,  7.],\n",
       "        [ 8.,  9., 10., 11.]])"
      ]
     },
     "execution_count": 21,
     "metadata": {},
     "output_type": "execute_result"
    }
   ],
   "execution_count": 21
  },
  {
   "metadata": {
    "ExecuteTime": {
     "end_time": "2025-09-17T15:14:40.833659Z",
     "start_time": "2025-09-17T15:14:40.816852Z"
    }
   },
   "cell_type": "code",
   "source": [
    "X = x.reshape(3, -1)\n",
    "X"
   ],
   "id": "82e155faf2c0d11b",
   "outputs": [
    {
     "data": {
      "text/plain": [
       "tensor([[ 0.,  1.,  2.,  3.],\n",
       "        [ 4.,  5.,  6.,  7.],\n",
       "        [ 8.,  9., 10., 11.]])"
      ]
     },
     "execution_count": 22,
     "metadata": {},
     "output_type": "execute_result"
    }
   ],
   "execution_count": 22
  },
  {
   "metadata": {},
   "cell_type": "markdown",
   "source": [
    "### torch.zeros & torch.ones\n",
    "- shape를 지정하여 모든 요소가 0 또는 1인 텐서를 생성할수 있음"
   ],
   "id": "24e42b39fbaf41ab"
  },
  {
   "metadata": {
    "ExecuteTime": {
     "end_time": "2025-09-17T15:19:30.749026Z",
     "start_time": "2025-09-17T15:19:30.730717Z"
    }
   },
   "cell_type": "code",
   "source": "torch.zeros((2, 3, 4))",
   "id": "3752c223e3bc9bab",
   "outputs": [
    {
     "data": {
      "text/plain": [
       "tensor([[[0., 0., 0., 0.],\n",
       "         [0., 0., 0., 0.],\n",
       "         [0., 0., 0., 0.]],\n",
       "\n",
       "        [[0., 0., 0., 0.],\n",
       "         [0., 0., 0., 0.],\n",
       "         [0., 0., 0., 0.]]])"
      ]
     },
     "execution_count": 25,
     "metadata": {},
     "output_type": "execute_result"
    }
   ],
   "execution_count": 25
  },
  {
   "metadata": {
    "ExecuteTime": {
     "end_time": "2025-09-17T15:19:31.108307Z",
     "start_time": "2025-09-17T15:19:31.101294Z"
    }
   },
   "cell_type": "code",
   "source": "torch.ones((2, 3, 4))",
   "id": "c5a3715641b202d2",
   "outputs": [
    {
     "data": {
      "text/plain": [
       "tensor([[[1., 1., 1., 1.],\n",
       "         [1., 1., 1., 1.],\n",
       "         [1., 1., 1., 1.]],\n",
       "\n",
       "        [[1., 1., 1., 1.],\n",
       "         [1., 1., 1., 1.],\n",
       "         [1., 1., 1., 1.]]])"
      ]
     },
     "execution_count": 26,
     "metadata": {},
     "output_type": "execute_result"
    }
   ],
   "execution_count": 26
  },
  {
   "metadata": {},
   "cell_type": "markdown",
   "source": [
    "### torch.randn\n",
    "- 주어진 확률 분포에서 요소를 무작위 샘플링할 수 있음\n",
    "- 기본 확률 분포는 가우시안 분포임"
   ],
   "id": "70d436542f1b4c3a"
  },
  {
   "metadata": {
    "ExecuteTime": {
     "end_time": "2025-09-17T15:22:10.514510Z",
     "start_time": "2025-09-17T15:22:10.490825Z"
    }
   },
   "cell_type": "code",
   "source": "torch.randn(3, 4)",
   "id": "d5ee04b780cf06bb",
   "outputs": [
    {
     "data": {
      "text/plain": [
       "tensor([[ 0.0984,  1.2275, -0.8273,  0.2185],\n",
       "        [-0.1241,  0.7186, -1.3228,  1.2757],\n",
       "        [-0.5779, -0.1083,  0.6367, -0.1744]])"
      ]
     },
     "execution_count": 27,
     "metadata": {},
     "output_type": "execute_result"
    }
   ],
   "execution_count": 27
  },
  {
   "metadata": {},
   "cell_type": "markdown",
   "source": [
    "### torch.tensor\n",
    "- python 리스트를 제공함으로써 tensor를 생성할 수 있음"
   ],
   "id": "ab7987958e15f95b"
  },
  {
   "metadata": {
    "ExecuteTime": {
     "end_time": "2025-09-17T15:26:09.750997Z",
     "start_time": "2025-09-17T15:26:09.743478Z"
    }
   },
   "cell_type": "code",
   "source": "torch.tensor([[2,1,4,3], [1,2,3,4], [4,3,2,1]])",
   "id": "80558e259d7f0983",
   "outputs": [
    {
     "data": {
      "text/plain": [
       "tensor([[2, 1, 4, 3],\n",
       "        [1, 2, 3, 4],\n",
       "        [4, 3, 2, 1]])"
      ]
     },
     "execution_count": 31,
     "metadata": {},
     "output_type": "execute_result"
    }
   ],
   "execution_count": 31
  },
  {
   "metadata": {},
   "cell_type": "markdown",
   "source": "## 2.1.2 Indexing and Slicing",
   "id": "24e8cce8e159ab28"
  },
  {
   "metadata": {
    "ExecuteTime": {
     "end_time": "2025-09-17T15:33:02.761180Z",
     "start_time": "2025-09-17T15:33:02.709650Z"
    }
   },
   "cell_type": "code",
   "source": "X[-1], X[1:3]",
   "id": "e4f38589f492d66f",
   "outputs": [
    {
     "data": {
      "text/plain": [
       "(tensor([ 8.,  9., 10., 11.]),\n",
       " tensor([[ 4.,  5.,  6.,  7.],\n",
       "         [ 8.,  9., 10., 11.]]))"
      ]
     },
     "execution_count": 32,
     "metadata": {},
     "output_type": "execute_result"
    }
   ],
   "execution_count": 32
  },
  {
   "metadata": {
    "ExecuteTime": {
     "end_time": "2025-09-17T15:33:35.534416Z",
     "start_time": "2025-09-17T15:33:35.523614Z"
    }
   },
   "cell_type": "code",
   "source": [
    "X[1, 2] = 17\n",
    "X"
   ],
   "id": "613dd313156fef9d",
   "outputs": [
    {
     "data": {
      "text/plain": [
       "tensor([[ 0.,  1.,  2.,  3.],\n",
       "        [ 4.,  5., 17.,  7.],\n",
       "        [ 8.,  9., 10., 11.]])"
      ]
     },
     "execution_count": 34,
     "metadata": {},
     "output_type": "execute_result"
    }
   ],
   "execution_count": 34
  },
  {
   "metadata": {
    "ExecuteTime": {
     "end_time": "2025-09-17T15:34:01.744628Z",
     "start_time": "2025-09-17T15:34:01.731350Z"
    }
   },
   "cell_type": "code",
   "source": [
    "X[:2, :] = 12\n",
    "X"
   ],
   "id": "976d4508b5273586",
   "outputs": [
    {
     "data": {
      "text/plain": [
       "tensor([[12., 12., 12., 12.],\n",
       "        [12., 12., 12., 12.],\n",
       "        [ 8.,  9., 10., 11.]])"
      ]
     },
     "execution_count": 36,
     "metadata": {},
     "output_type": "execute_result"
    }
   ],
   "execution_count": 36
  },
  {
   "metadata": {
    "ExecuteTime": {
     "end_time": "2025-09-17T15:34:30.652139Z",
     "start_time": "2025-09-17T15:34:30.642686Z"
    }
   },
   "cell_type": "markdown",
   "source": "## 2.1.3 Operations",
   "id": "20d08bafd6277886"
  },
  {
   "metadata": {},
   "cell_type": "markdown",
   "source": [
    "단항 스칼라 연산자 예시\n",
    "- $ e^x $"
   ],
   "id": "506bd601db50ea33"
  },
  {
   "metadata": {
    "ExecuteTime": {
     "end_time": "2025-09-17T15:39:23.410293Z",
     "start_time": "2025-09-17T15:39:23.396887Z"
    }
   },
   "cell_type": "code",
   "source": "torch.exp(x)",
   "id": "78940c866a9dc8c7",
   "outputs": [
    {
     "data": {
      "text/plain": [
       "tensor([162754.7969, 162754.7969, 162754.7969, 162754.7969, 162754.7969,\n",
       "        162754.7969, 162754.7969, 162754.7969,   2980.9580,   8103.0840,\n",
       "         22026.4648,  59874.1406])"
      ]
     },
     "execution_count": 39,
     "metadata": {},
     "output_type": "execute_result"
    }
   ],
   "execution_count": 39
  },
  {
   "metadata": {},
   "cell_type": "markdown",
   "source": "이진 스칼라 연산자 예시",
   "id": "12a7d94a9f789867"
  },
  {
   "metadata": {},
   "cell_type": "code",
   "outputs": [],
   "execution_count": null,
   "source": [
    "x = torch.tensor([1.0, 2, 4, 8])\n",
    "y = torch.tensor([2, 2, 2, 2])\n",
    "x+y, x-y, x*y, x/y, x**y"
   ],
   "id": "3487457a7a7922c8"
  },
  {
   "metadata": {},
   "cell_type": "markdown",
   "source": [
    "torch.concat\n",
    "- tensor 리스트와 축을 지정하여 tensor 를 합칠수 있음"
   ],
   "id": "c0fbca1fe08b4e0f"
  },
  {
   "metadata": {
    "ExecuteTime": {
     "end_time": "2025-09-18T02:07:29.385207Z",
     "start_time": "2025-09-18T02:07:29.268326Z"
    }
   },
   "cell_type": "code",
   "source": [
    "X=torch.arange(12, dtype=torch.float32).reshape((3, 4))\n",
    "Y=torch.tensor([[2.0, 1, 4, 3], [1, 2, 3, 4], [4, 3, 2, 1]])\n",
    "torch.cat((X,Y), dim=0), torch.cat((X, Y), dim=1),"
   ],
   "id": "7b143573da9448aa",
   "outputs": [
    {
     "data": {
      "text/plain": [
       "(tensor([[ 0.,  1.,  2.,  3.],\n",
       "         [ 4.,  5.,  6.,  7.],\n",
       "         [ 8.,  9., 10., 11.],\n",
       "         [ 2.,  1.,  4.,  3.],\n",
       "         [ 1.,  2.,  3.,  4.],\n",
       "         [ 4.,  3.,  2.,  1.]]),\n",
       " tensor([[ 0.,  1.,  2.,  3.,  2.,  1.,  4.,  3.],\n",
       "         [ 4.,  5.,  6.,  7.,  1.,  2.,  3.,  4.],\n",
       "         [ 8.,  9., 10., 11.,  4.,  3.,  2.,  1.]]))"
      ]
     },
     "execution_count": 42,
     "metadata": {},
     "output_type": "execute_result"
    }
   ],
   "execution_count": 42
  },
  {
   "metadata": {},
   "cell_type": "markdown",
   "source": "논리 연산자를 통해 이진 텐서를 구성할수 있음",
   "id": "14eebb295c3c6bf"
  },
  {
   "metadata": {
    "ExecuteTime": {
     "end_time": "2025-09-18T02:07:55.904524Z",
     "start_time": "2025-09-18T02:07:55.878289Z"
    }
   },
   "cell_type": "code",
   "source": "X == Y",
   "id": "fb35ed60687c42d7",
   "outputs": [
    {
     "data": {
      "text/plain": [
       "tensor([[False,  True, False,  True],\n",
       "        [False, False, False, False],\n",
       "        [False, False, False, False]])"
      ]
     },
     "execution_count": 43,
     "metadata": {},
     "output_type": "execute_result"
    }
   ],
   "execution_count": 43
  },
  {
   "metadata": {
    "ExecuteTime": {
     "end_time": "2025-09-18T02:11:14.472292Z",
     "start_time": "2025-09-18T02:11:14.455149Z"
    }
   },
   "cell_type": "markdown",
   "source": "전체 tensor의 합을 구할수 있음",
   "id": "c08602587d859f85"
  },
  {
   "metadata": {
    "ExecuteTime": {
     "end_time": "2025-09-18T02:08:47.579256Z",
     "start_time": "2025-09-18T02:08:47.546376Z"
    }
   },
   "cell_type": "code",
   "source": "X.sum()",
   "id": "3d8b84e283184926",
   "outputs": [
    {
     "data": {
      "text/plain": [
       "tensor(66.)"
      ]
     },
     "execution_count": 44,
     "metadata": {},
     "output_type": "execute_result"
    }
   ],
   "execution_count": 44
  },
  {
   "metadata": {},
   "cell_type": "markdown",
   "source": [
    "## 2.1.4 Broadcasting\n",
    "- 특정 조건 하에서 shape이 다르더라고 boradcating 메커니즘을 호출하여 요소별 이항 연상을 수행할수 있음\n",
    "- Broadcasting 이 수행하는 2개의 프로시저\n",
    "  1. 길이가 1인 축을 따라 요소를 복사하여 두 배열을 확장 -> 두 텐서가 동일한 모양 갖도록 함\n",
    "  2. 결과 배열에 대해 요소별 연산 수행"
   ],
   "id": "54cbddf4a0b6e998"
  },
  {
   "metadata": {
    "ExecuteTime": {
     "end_time": "2025-09-18T04:31:19.792628Z",
     "start_time": "2025-09-18T04:31:19.712398Z"
    }
   },
   "cell_type": "code",
   "source": [
    "a = torch.arange(3).reshape((3, 1))\n",
    "b = torch.arange(2).reshape((1, 2))\n",
    "a, b"
   ],
   "id": "5f376892458c7d11",
   "outputs": [
    {
     "data": {
      "text/plain": [
       "(tensor([[0],\n",
       "         [1],\n",
       "         [2]]),\n",
       " tensor([[0, 1]]))"
      ]
     },
     "execution_count": 46,
     "metadata": {},
     "output_type": "execute_result"
    }
   ],
   "execution_count": 46
  },
  {
   "metadata": {
    "ExecuteTime": {
     "end_time": "2025-09-18T04:31:25.832265Z",
     "start_time": "2025-09-18T04:31:25.812998Z"
    }
   },
   "cell_type": "code",
   "source": "a+b",
   "id": "5dd1b48aa2999b75",
   "outputs": [
    {
     "data": {
      "text/plain": [
       "tensor([[0, 1],\n",
       "        [1, 2],\n",
       "        [2, 3]])"
      ]
     },
     "execution_count": 47,
     "metadata": {},
     "output_type": "execute_result"
    }
   ],
   "execution_count": 47
  },
  {
   "metadata": {},
   "cell_type": "markdown",
   "source": "## 2.1.5 Saving Memory",
   "id": "66a5808ffe4482fd"
  },
  {
   "metadata": {
    "ExecuteTime": {
     "end_time": "2025-09-18T04:36:18.545459Z",
     "start_time": "2025-09-18T04:36:18.526422Z"
    }
   },
   "cell_type": "code",
   "source": [
    "before = id(Y)\n",
    "Y = Y + X\n",
    "id(Y) == before"
   ],
   "id": "a570e6b5c8f0a59a",
   "outputs": [
    {
     "data": {
      "text/plain": [
       "False"
      ]
     },
     "execution_count": 48,
     "metadata": {},
     "output_type": "execute_result"
    }
   ],
   "execution_count": 48
  },
  {
   "metadata": {
    "ExecuteTime": {
     "end_time": "2025-09-18T04:39:44.789273Z",
     "start_time": "2025-09-18T04:39:44.773385Z"
    }
   },
   "cell_type": "code",
   "source": [
    "Z = torch.zeros_like(Y)\n",
    "print('id(Z):', id(Z))\n",
    "Z[:] = X + Y\n",
    "print('id(Z):', id(Z))"
   ],
   "id": "b3749707ade400d4",
   "outputs": [
    {
     "name": "stdout",
     "output_type": "stream",
     "text": [
      "tensor([[0., 0., 0., 0.],\n",
      "        [0., 0., 0., 0.],\n",
      "        [0., 0., 0., 0.]])\n",
      "id(Z): 4486786224\n",
      "id(Z): 4486786224\n"
     ]
    }
   ],
   "execution_count": 50
  },
  {
   "metadata": {
    "ExecuteTime": {
     "end_time": "2025-09-18T04:41:22.751569Z",
     "start_time": "2025-09-18T04:41:22.736707Z"
    }
   },
   "cell_type": "code",
   "source": [
    "before = id(X)\n",
    "X += Y\n",
    "id(X) == before"
   ],
   "id": "a02d1250acfe8d7e",
   "outputs": [
    {
     "data": {
      "text/plain": [
       "True"
      ]
     },
     "execution_count": 51,
     "metadata": {},
     "output_type": "execute_result"
    }
   ],
   "execution_count": 51
  },
  {
   "metadata": {
    "ExecuteTime": {
     "end_time": "2025-09-18T04:42:46.879418Z",
     "start_time": "2025-09-18T04:42:46.866910Z"
    }
   },
   "cell_type": "markdown",
   "source": [
    "## 2.1.6 Conversion to Other Python Objects\n",
    "- PyTorch -> NumPy tensor 변환과 그 반대 변환 가능\n",
    "- torch tensor와 numpy array 는 기본 메모리를 공유함 -> in-place 연산을 통해 한개를 변환하면 나머지도 변함"
   ],
   "id": "97e58bf55036cc49"
  },
  {
   "metadata": {
    "ExecuteTime": {
     "end_time": "2025-09-18T04:44:53.696219Z",
     "start_time": "2025-09-18T04:44:53.677707Z"
    }
   },
   "cell_type": "code",
   "source": [
    "A = X.numpy()\n",
    "B = torch.from_numpy(A)\n",
    "type(A), type(B)"
   ],
   "id": "aca43188ab27ff60",
   "outputs": [
    {
     "data": {
      "text/plain": [
       "(numpy.ndarray, torch.Tensor)"
      ]
     },
     "execution_count": 53,
     "metadata": {},
     "output_type": "execute_result"
    }
   ],
   "execution_count": 53
  },
  {
   "metadata": {},
   "cell_type": "markdown",
   "source": "- size-1 tensor를 python 스칼라로 바꾸려면 item 함수를 호출 하거나 python 내장 함수를 사용할수 있음",
   "id": "9c1c66aee6b0669b"
  },
  {
   "metadata": {
    "ExecuteTime": {
     "end_time": "2025-09-18T04:47:13.201727Z",
     "start_time": "2025-09-18T04:47:13.189238Z"
    }
   },
   "cell_type": "code",
   "source": [
    "a=torch.tensor([3.5])\n",
    "a, a.item(), float(a), int(a)"
   ],
   "id": "e6fc2678412887a0",
   "outputs": [
    {
     "data": {
      "text/plain": [
       "(tensor([3.5000]), 3.5, 3.5, 3)"
      ]
     },
     "execution_count": 56,
     "metadata": {},
     "output_type": "execute_result"
    }
   ],
   "execution_count": 56
  },
  {
   "metadata": {
    "ExecuteTime": {
     "end_time": "2025-09-18T04:47:27.521485Z",
     "start_time": "2025-09-18T04:47:27.513366Z"
    }
   },
   "cell_type": "markdown",
   "source": "# Exercise",
   "id": "2771880e85edb97"
  },
  {
   "metadata": {},
   "cell_type": "markdown",
   "source": "## 1.",
   "id": "cdebd59c71c946c1"
  },
  {
   "metadata": {
    "ExecuteTime": {
     "end_time": "2025-09-18T04:48:57.937441Z",
     "start_time": "2025-09-18T04:48:57.917418Z"
    }
   },
   "cell_type": "code",
   "source": "X < Y",
   "id": "e66de815c65bab77",
   "outputs": [
    {
     "data": {
      "text/plain": [
       "tensor([[False, False, False, False],\n",
       "        [False, False, False, False],\n",
       "        [False, False, False, False]])"
      ]
     },
     "execution_count": 63,
     "metadata": {},
     "output_type": "execute_result"
    }
   ],
   "execution_count": 63
  },
  {
   "metadata": {
    "ExecuteTime": {
     "end_time": "2025-09-18T04:48:58.290139Z",
     "start_time": "2025-09-18T04:48:58.286856Z"
    }
   },
   "cell_type": "code",
   "source": "X > Y",
   "id": "ee4be0b3703f3b4c",
   "outputs": [
    {
     "data": {
      "text/plain": [
       "tensor([[False,  True,  True,  True],\n",
       "        [ True,  True,  True,  True],\n",
       "        [ True,  True,  True,  True]])"
      ]
     },
     "execution_count": 64,
     "metadata": {},
     "output_type": "execute_result"
    }
   ],
   "execution_count": 64
  },
  {
   "metadata": {
    "ExecuteTime": {
     "end_time": "2025-09-18T04:48:58.752710Z",
     "start_time": "2025-09-18T04:48:58.750139Z"
    }
   },
   "cell_type": "code",
   "source": "X == Y",
   "id": "513ba9aecf95338a",
   "outputs": [
    {
     "data": {
      "text/plain": [
       "tensor([[ True, False, False, False],\n",
       "        [False, False, False, False],\n",
       "        [False, False, False, False]])"
      ]
     },
     "execution_count": 65,
     "metadata": {},
     "output_type": "execute_result"
    }
   ],
   "execution_count": 65
  },
  {
   "metadata": {},
   "cell_type": "markdown",
   "source": "2.",
   "id": "abb2415b868eb0a6"
  },
  {
   "metadata": {
    "ExecuteTime": {
     "end_time": "2025-09-18T04:50:49.210037Z",
     "start_time": "2025-09-18T04:50:49.202904Z"
    }
   },
   "cell_type": "code",
   "source": [
    "a = torch.arange(3).reshape((3, 1))\n",
    "b = torch.arange(3).reshape((1, 3))\n",
    "a, b"
   ],
   "id": "a3eafca3b33d0414",
   "outputs": [
    {
     "data": {
      "text/plain": [
       "(tensor([[0],\n",
       "         [1],\n",
       "         [2]]),\n",
       " tensor([[0, 1, 2]]))"
      ]
     },
     "execution_count": 74,
     "metadata": {},
     "output_type": "execute_result"
    }
   ],
   "execution_count": 74
  },
  {
   "metadata": {
    "ExecuteTime": {
     "end_time": "2025-09-18T04:50:49.631100Z",
     "start_time": "2025-09-18T04:50:49.627644Z"
    }
   },
   "cell_type": "code",
   "source": "a + b",
   "id": "5a73431880bef846",
   "outputs": [
    {
     "data": {
      "text/plain": [
       "tensor([[0, 1, 2],\n",
       "        [1, 2, 3],\n",
       "        [2, 3, 4]])"
      ]
     },
     "execution_count": 75,
     "metadata": {},
     "output_type": "execute_result"
    }
   ],
   "execution_count": 75
  },
  {
   "metadata": {
    "ExecuteTime": {
     "end_time": "2025-09-18T04:56:24.646272Z",
     "start_time": "2025-09-18T04:56:24.627327Z"
    }
   },
   "cell_type": "code",
   "source": [
    "e = torch.arange(12).reshape(2, -1, 6)\n",
    "f = torch.tensor([1, 2, 3, 4]).reshape(-1, 4, 1)\n",
    "e, f, e.shape, f.shape"
   ],
   "id": "472f0642049e425b",
   "outputs": [
    {
     "data": {
      "text/plain": [
       "(tensor([[[ 0,  1,  2,  3,  4,  5]],\n",
       " \n",
       "         [[ 6,  7,  8,  9, 10, 11]]]),\n",
       " tensor([[[1],\n",
       "          [2],\n",
       "          [3],\n",
       "          [4]]]),\n",
       " torch.Size([2, 1, 6]),\n",
       " torch.Size([1, 4, 1]))"
      ]
     },
     "execution_count": 79,
     "metadata": {},
     "output_type": "execute_result"
    }
   ],
   "execution_count": 79
  },
  {
   "metadata": {
    "ExecuteTime": {
     "end_time": "2025-09-18T04:56:25.095783Z",
     "start_time": "2025-09-18T04:56:25.089871Z"
    }
   },
   "cell_type": "code",
   "source": "e+f",
   "id": "cfbec5d0d4aa84d3",
   "outputs": [
    {
     "data": {
      "text/plain": [
       "tensor([[[ 1,  2,  3,  4,  5,  6],\n",
       "         [ 2,  3,  4,  5,  6,  7],\n",
       "         [ 3,  4,  5,  6,  7,  8],\n",
       "         [ 4,  5,  6,  7,  8,  9]],\n",
       "\n",
       "        [[ 7,  8,  9, 10, 11, 12],\n",
       "         [ 8,  9, 10, 11, 12, 13],\n",
       "         [ 9, 10, 11, 12, 13, 14],\n",
       "         [10, 11, 12, 13, 14, 15]]])"
      ]
     },
     "execution_count": 80,
     "metadata": {},
     "output_type": "execute_result"
    }
   ],
   "execution_count": 80
  },
  {
   "metadata": {},
   "cell_type": "code",
   "outputs": [],
   "execution_count": null,
   "source": "",
   "id": "a65df05c1345a191"
  }
 ],
 "metadata": {
  "kernelspec": {
   "display_name": "Python 3",
   "language": "python",
   "name": "python3"
  },
  "language_info": {
   "codemirror_mode": {
    "name": "ipython",
    "version": 2
   },
   "file_extension": ".py",
   "mimetype": "text/x-python",
   "name": "python",
   "nbconvert_exporter": "python",
   "pygments_lexer": "ipython2",
   "version": "2.7.6"
  }
 },
 "nbformat": 4,
 "nbformat_minor": 5
}
