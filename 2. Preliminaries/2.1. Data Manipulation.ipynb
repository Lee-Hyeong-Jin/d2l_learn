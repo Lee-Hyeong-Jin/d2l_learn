{
 "cells": [
  {
   "metadata": {},
   "cell_type": "markdown",
   "source": [
    "# 2.1 Data Manipulation\n",
    "\n",
    "- 작업하기전 데이터를 저장하고 가공해야함\n",
    "- 데이터를 다룰때 중요한 작업 두 가지\n",
    "  1. 데이터 수집\n",
    "  2. 저장된 데이터 처리\n",
    "- 현대 딥러닝 프레임워크들은 Numpy의 ndarray와 유사한 tensor를 사용함\n",
    "- tensor class 특징\n",
    "  1. 자동 미분을 지원함\n",
    "  2. 수치 연산에 GPU 가속을 사용함"
   ],
   "id": "65dfbe8f0fda820d"
  },
  {
   "metadata": {},
   "cell_type": "markdown",
   "source": "## 2.1.1 Getting Started",
   "id": "558d96a96dec5f12"
  },
  {
   "metadata": {
    "ExecuteTime": {
     "end_time": "2025-09-17T14:52:38.062969Z",
     "start_time": "2025-09-17T14:52:38.053635Z"
    }
   },
   "cell_type": "code",
   "source": "import torch",
   "id": "7c3045afe0396e21",
   "outputs": [],
   "execution_count": 2
  },
  {
   "metadata": {},
   "cell_type": "markdown",
   "source": [
    "### Tensor\n",
    "- tensor: 숫자 값의 배열\n",
    "- 1차원인 경우 vector라 부름\n",
    "- 2차원인 경우 matrix라 부름\n",
    "- 2차원 초과의 축이 있는 경우 n차 텐서라 부름"
   ],
   "id": "2245ebf068e3dba2"
  },
  {
   "metadata": {},
   "cell_type": "markdown",
   "source": [
    "### torch.arange\n",
    "- 균일하게 분포된 값의 벡터를 생성\n",
    "- 기본 step 사이즈는 1\n",
    "- 지정하지 않을 시, 새로운 텐서는 주 메모리에 저장되고 CPU 기반 계산을 위해 지정됨\n",
    "- 각 값들은 텐서의 요소라고 부름"
   ],
   "id": "3ab0ea3bf463b40"
  },
  {
   "metadata": {
    "ExecuteTime": {
     "end_time": "2025-09-17T15:07:34.352397Z",
     "start_time": "2025-09-17T15:07:34.346335Z"
    }
   },
   "cell_type": "code",
   "source": [
    "x = torch.arange(12, dtype=torch.float32)\n",
    "x"
   ],
   "id": "ad5f40d02492c335",
   "outputs": [
    {
     "data": {
      "text/plain": [
       "tensor([ 0.,  1.,  2.,  3.,  4.,  5.,  6.,  7.,  8.,  9., 10., 11.])"
      ]
     },
     "execution_count": 16,
     "metadata": {},
     "output_type": "execute_result"
    }
   ],
   "execution_count": 16
  },
  {
   "metadata": {},
   "cell_type": "markdown",
   "source": "- numel 메서드를 통해 텐서의 총 요소 개수를 확인할수 있음",
   "id": "4c43c80135c4327e"
  },
  {
   "metadata": {
    "ExecuteTime": {
     "end_time": "2025-09-17T15:07:34.359636Z",
     "start_time": "2025-09-17T15:07:34.353927Z"
    }
   },
   "cell_type": "code",
   "source": "x.numel()",
   "id": "d9fe6e4e3a6b06b7",
   "outputs": [
    {
     "data": {
      "text/plain": [
       "12"
      ]
     },
     "execution_count": 17,
     "metadata": {},
     "output_type": "execute_result"
    }
   ],
   "execution_count": 17
  },
  {
   "metadata": {},
   "cell_type": "markdown",
   "source": "- 텐서의 shape는 shape 속성을 통해 접근할수 있음",
   "id": "302cf487f61aa9bb"
  },
  {
   "metadata": {
    "ExecuteTime": {
     "end_time": "2025-09-17T15:07:34.420258Z",
     "start_time": "2025-09-17T15:07:34.417Z"
    }
   },
   "cell_type": "code",
   "source": "x.shape",
   "id": "11dca4a21760ecda",
   "outputs": [
    {
     "data": {
      "text/plain": [
       "torch.Size([12])"
      ]
     },
     "execution_count": 18,
     "metadata": {},
     "output_type": "execute_result"
    }
   ],
   "execution_count": 18
  },
  {
   "metadata": {},
   "cell_type": "markdown",
   "source": "- 텐서의 shape를 reshape 를 호출함으로써 변경할수 있음",
   "id": "b4bcc6abae4795ea"
  },
  {
   "metadata": {
    "ExecuteTime": {
     "end_time": "2025-09-17T15:07:34.424686Z",
     "start_time": "2025-09-17T15:07:34.421234Z"
    }
   },
   "cell_type": "code",
   "source": [
    "X = x.reshape(3, 4)\n",
    "X"
   ],
   "id": "8bdbb9eece7f3f18",
   "outputs": [
    {
     "data": {
      "text/plain": [
       "tensor([[ 0.,  1.,  2.,  3.],\n",
       "        [ 4.,  5.,  6.,  7.],\n",
       "        [ 8.,  9., 10., 11.]])"
      ]
     },
     "execution_count": 19,
     "metadata": {},
     "output_type": "execute_result"
    }
   ],
   "execution_count": 19
  },
  {
   "metadata": {},
   "cell_type": "markdown",
   "source": "- 모든 shpae의 컴포넌트를 지정하는 것은 반복되므로 tensor의 사이즈를 안다면 한개의 컴포넌트가 주어지면 나머지를 계산할 수 있음",
   "id": "7a60705af1826a29"
  },
  {
   "metadata": {
    "ExecuteTime": {
     "end_time": "2025-09-17T15:14:21.737408Z",
     "start_time": "2025-09-17T15:14:21.707672Z"
    }
   },
   "cell_type": "code",
   "source": [
    "X = x.reshape(-1, 4)\n",
    "X"
   ],
   "id": "e648fb5a6d62eff4",
   "outputs": [
    {
     "data": {
      "text/plain": [
       "tensor([[ 0.,  1.,  2.,  3.],\n",
       "        [ 4.,  5.,  6.,  7.],\n",
       "        [ 8.,  9., 10., 11.]])"
      ]
     },
     "execution_count": 21,
     "metadata": {},
     "output_type": "execute_result"
    }
   ],
   "execution_count": 21
  },
  {
   "metadata": {
    "ExecuteTime": {
     "end_time": "2025-09-17T15:14:40.833659Z",
     "start_time": "2025-09-17T15:14:40.816852Z"
    }
   },
   "cell_type": "code",
   "source": [
    "X = x.reshape(3, -1)\n",
    "X"
   ],
   "id": "82e155faf2c0d11b",
   "outputs": [
    {
     "data": {
      "text/plain": [
       "tensor([[ 0.,  1.,  2.,  3.],\n",
       "        [ 4.,  5.,  6.,  7.],\n",
       "        [ 8.,  9., 10., 11.]])"
      ]
     },
     "execution_count": 22,
     "metadata": {},
     "output_type": "execute_result"
    }
   ],
   "execution_count": 22
  },
  {
   "metadata": {},
   "cell_type": "markdown",
   "source": [
    "### torch.zeros & torch.ones\n",
    "- shape를 지정하여 모든 요소가 0 또는 1인 텐서를 생성할수 있음"
   ],
   "id": "24e42b39fbaf41ab"
  },
  {
   "metadata": {
    "ExecuteTime": {
     "end_time": "2025-09-17T15:19:30.749026Z",
     "start_time": "2025-09-17T15:19:30.730717Z"
    }
   },
   "cell_type": "code",
   "source": "torch.zeros((2, 3, 4))",
   "id": "3752c223e3bc9bab",
   "outputs": [
    {
     "data": {
      "text/plain": [
       "tensor([[[0., 0., 0., 0.],\n",
       "         [0., 0., 0., 0.],\n",
       "         [0., 0., 0., 0.]],\n",
       "\n",
       "        [[0., 0., 0., 0.],\n",
       "         [0., 0., 0., 0.],\n",
       "         [0., 0., 0., 0.]]])"
      ]
     },
     "execution_count": 25,
     "metadata": {},
     "output_type": "execute_result"
    }
   ],
   "execution_count": 25
  },
  {
   "metadata": {
    "ExecuteTime": {
     "end_time": "2025-09-17T15:19:31.108307Z",
     "start_time": "2025-09-17T15:19:31.101294Z"
    }
   },
   "cell_type": "code",
   "source": "torch.ones((2, 3, 4))",
   "id": "c5a3715641b202d2",
   "outputs": [
    {
     "data": {
      "text/plain": [
       "tensor([[[1., 1., 1., 1.],\n",
       "         [1., 1., 1., 1.],\n",
       "         [1., 1., 1., 1.]],\n",
       "\n",
       "        [[1., 1., 1., 1.],\n",
       "         [1., 1., 1., 1.],\n",
       "         [1., 1., 1., 1.]]])"
      ]
     },
     "execution_count": 26,
     "metadata": {},
     "output_type": "execute_result"
    }
   ],
   "execution_count": 26
  },
  {
   "metadata": {},
   "cell_type": "markdown",
   "source": [
    "### torch.randn\n",
    "- 주어진 확률 분포에서 요소를 무작위 샘플링할 수 있음\n",
    "- 기본 확률 분포는 가우시안 분포임"
   ],
   "id": "70d436542f1b4c3a"
  },
  {
   "metadata": {
    "ExecuteTime": {
     "end_time": "2025-09-17T15:22:10.514510Z",
     "start_time": "2025-09-17T15:22:10.490825Z"
    }
   },
   "cell_type": "code",
   "source": "torch.randn(3, 4)",
   "id": "d5ee04b780cf06bb",
   "outputs": [
    {
     "data": {
      "text/plain": [
       "tensor([[ 0.0984,  1.2275, -0.8273,  0.2185],\n",
       "        [-0.1241,  0.7186, -1.3228,  1.2757],\n",
       "        [-0.5779, -0.1083,  0.6367, -0.1744]])"
      ]
     },
     "execution_count": 27,
     "metadata": {},
     "output_type": "execute_result"
    }
   ],
   "execution_count": 27
  },
  {
   "metadata": {},
   "cell_type": "markdown",
   "source": [
    "### torch.tensor\n",
    "- python 리스트를 제공함으로써 tensor를 생성할 수 있음"
   ],
   "id": "ab7987958e15f95b"
  },
  {
   "metadata": {
    "ExecuteTime": {
     "end_time": "2025-09-17T15:26:09.750997Z",
     "start_time": "2025-09-17T15:26:09.743478Z"
    }
   },
   "cell_type": "code",
   "source": "torch.tensor([[2,1,4,3], [1,2,3,4], [4,3,2,1]])",
   "id": "80558e259d7f0983",
   "outputs": [
    {
     "data": {
      "text/plain": [
       "tensor([[2, 1, 4, 3],\n",
       "        [1, 2, 3, 4],\n",
       "        [4, 3, 2, 1]])"
      ]
     },
     "execution_count": 31,
     "metadata": {},
     "output_type": "execute_result"
    }
   ],
   "execution_count": 31
  },
  {
   "metadata": {},
   "cell_type": "markdown",
   "source": "## 2.1.2 Indexing and Slicing",
   "id": "24e8cce8e159ab28"
  },
  {
   "metadata": {
    "ExecuteTime": {
     "end_time": "2025-09-17T15:33:02.761180Z",
     "start_time": "2025-09-17T15:33:02.709650Z"
    }
   },
   "cell_type": "code",
   "source": "X[-1], X[1:3]",
   "id": "e4f38589f492d66f",
   "outputs": [
    {
     "data": {
      "text/plain": [
       "(tensor([ 8.,  9., 10., 11.]),\n",
       " tensor([[ 4.,  5.,  6.,  7.],\n",
       "         [ 8.,  9., 10., 11.]]))"
      ]
     },
     "execution_count": 32,
     "metadata": {},
     "output_type": "execute_result"
    }
   ],
   "execution_count": 32
  },
  {
   "metadata": {
    "ExecuteTime": {
     "end_time": "2025-09-17T15:33:35.534416Z",
     "start_time": "2025-09-17T15:33:35.523614Z"
    }
   },
   "cell_type": "code",
   "source": [
    "X[1, 2] = 17\n",
    "X"
   ],
   "id": "613dd313156fef9d",
   "outputs": [
    {
     "data": {
      "text/plain": [
       "tensor([[ 0.,  1.,  2.,  3.],\n",
       "        [ 4.,  5., 17.,  7.],\n",
       "        [ 8.,  9., 10., 11.]])"
      ]
     },
     "execution_count": 34,
     "metadata": {},
     "output_type": "execute_result"
    }
   ],
   "execution_count": 34
  },
  {
   "metadata": {
    "ExecuteTime": {
     "end_time": "2025-09-17T15:34:01.744628Z",
     "start_time": "2025-09-17T15:34:01.731350Z"
    }
   },
   "cell_type": "code",
   "source": [
    "X[:2, :] = 12\n",
    "X"
   ],
   "id": "976d4508b5273586",
   "outputs": [
    {
     "data": {
      "text/plain": [
       "tensor([[12., 12., 12., 12.],\n",
       "        [12., 12., 12., 12.],\n",
       "        [ 8.,  9., 10., 11.]])"
      ]
     },
     "execution_count": 36,
     "metadata": {},
     "output_type": "execute_result"
    }
   ],
   "execution_count": 36
  },
  {
   "metadata": {
    "ExecuteTime": {
     "end_time": "2025-09-17T15:34:30.652139Z",
     "start_time": "2025-09-17T15:34:30.642686Z"
    }
   },
   "cell_type": "markdown",
   "source": "## 2.1.3 Operations",
   "id": "20d08bafd6277886"
  },
  {
   "metadata": {},
   "cell_type": "markdown",
   "source": [
    "단항 스칼라 연산자 예시\n",
    "- $ e^x $"
   ],
   "id": "506bd601db50ea33"
  },
  {
   "metadata": {
    "ExecuteTime": {
     "end_time": "2025-09-17T15:39:23.410293Z",
     "start_time": "2025-09-17T15:39:23.396887Z"
    }
   },
   "cell_type": "code",
   "source": "torch.exp(x)",
   "id": "78940c866a9dc8c7",
   "outputs": [
    {
     "data": {
      "text/plain": [
       "tensor([162754.7969, 162754.7969, 162754.7969, 162754.7969, 162754.7969,\n",
       "        162754.7969, 162754.7969, 162754.7969,   2980.9580,   8103.0840,\n",
       "         22026.4648,  59874.1406])"
      ]
     },
     "execution_count": 39,
     "metadata": {},
     "output_type": "execute_result"
    }
   ],
   "execution_count": 39
  },
  {
   "metadata": {},
   "cell_type": "markdown",
   "source": "이진 스칼라 연산자 예시",
   "id": "12a7d94a9f789867"
  },
  {
   "metadata": {
    "ExecuteTime": {
     "end_time": "2025-09-17T15:42:39.630271Z",
     "start_time": "2025-09-17T15:42:39.606620Z"
    }
   },
   "cell_type": "code",
   "source": [
    "x = torch.tensor([1.0, 2, 4, 8])\n",
    "y = torch.tensor([2, 2, 2, 2])\n",
    "x+y, x-y, x*y, x/y, x**y"
   ],
   "id": "5a024e647e0173d6",
   "outputs": [
    {
     "data": {
      "text/plain": [
       "(tensor([ 3.,  4.,  6., 10.]),\n",
       " tensor([-1.,  0.,  2.,  6.]),\n",
       " tensor([ 2.,  4.,  8., 16.]),\n",
       " tensor([0.5000, 1.0000, 2.0000, 4.0000]),\n",
       " tensor([ 1.,  4., 16., 64.]))"
      ]
     },
     "execution_count": 40,
     "metadata": {},
     "output_type": "execute_result"
    }
   ],
   "execution_count": 40
  },
  {
   "metadata": {},
   "cell_type": "code",
   "outputs": [],
   "execution_count": null,
   "source": "",
   "id": "d178b6f9184eeb7f"
  }
 ],
 "metadata": {
  "kernelspec": {
   "display_name": "Python 3",
   "language": "python",
   "name": "python3"
  },
  "language_info": {
   "codemirror_mode": {
    "name": "ipython",
    "version": 2
   },
   "file_extension": ".py",
   "mimetype": "text/x-python",
   "name": "python",
   "nbconvert_exporter": "python",
   "pygments_lexer": "ipython2",
   "version": "2.7.6"
  }
 },
 "nbformat": 4,
 "nbformat_minor": 5
}
